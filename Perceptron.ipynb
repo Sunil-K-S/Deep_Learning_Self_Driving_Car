{
  "nbformat": 4,
  "nbformat_minor": 0,
  "metadata": {
    "colab": {
      "name": "Perceptron.ipynb",
      "provenance": [],
      "collapsed_sections": [],
      "authorship_tag": "ABX9TyNNxCdOS09jw4VPRlXHJyAS",
      "include_colab_link": true
    },
    "kernelspec": {
      "name": "python3",
      "display_name": "Python 3"
    },
    "language_info": {
      "name": "python"
    }
  },
  "cells": [
    {
      "cell_type": "markdown",
      "metadata": {
        "id": "view-in-github",
        "colab_type": "text"
      },
      "source": [
        "<a href=\"https://colab.research.google.com/github/Sunil-K-S/Deep_Learning_Self_Driving_Car/blob/main/Perceptron.ipynb\" target=\"_parent\"><img src=\"https://colab.research.google.com/assets/colab-badge.svg\" alt=\"Open In Colab\"/></a>"
      ]
    },
    {
      "cell_type": "code",
      "metadata": {
        "id": "3Utp1jninKwH"
      },
      "source": [
        "import numpy as np\n",
        "import matplotlib.pyplot as plt"
      ],
      "execution_count": 1,
      "outputs": []
    },
    {
      "cell_type": "code",
      "metadata": {
        "id": "L0sVjX6RbJU5"
      },
      "source": [
        "from IPython.display import clear_output\n",
        "from matplotlib import pyplot as plt\n",
        "%matplotlib inline\n",
        "\n",
        "def live_plot(x, y, figsize=(4,4), title=''):\n",
        "    clear_output(wait=True)\n",
        "    plt.figure(figsize=figsize)\n",
        "    #plt.xlim(0, training_steps)\n",
        "    #plt.ylim(0, 100)\n",
        "    x= [float(i) for i in x]\n",
        "    y= [float(i) for i in y]\n",
        "    \n",
        "    if len(x) > 1:\n",
        "        plt.scatter(x,y, label='axis y', color='k') \n",
        "        m, b = np.polyfit(x, y, 1)\n",
        "        plt.plot(x, [x * m for x in x] + b)\n",
        "\n",
        "    plt.title(title)\n",
        "    plt.grid(True)\n",
        "    plt.xlabel('axis x')\n",
        "    plt.ylabel('axis y')\n",
        "    plt.show();\n"
      ],
      "execution_count": 2,
      "outputs": []
    },
    {
      "cell_type": "code",
      "metadata": {
        "id": "5w6DWUatv_uG"
      },
      "source": [
        "\n",
        "def draw(x1, x2):\n",
        "  line = plt.plot(x1, x2)\n",
        "\n",
        "def get_sigmoid(score):\n",
        "  return 1/(1+np.exp(-score))\n",
        "\n",
        "# cross entropy loss\n",
        "def calculate_error(line_params, points, y):\n",
        "  m = points.shape[0]\n",
        "  p = get_sigmoid(points * line_params)\n",
        "  cross_entropy = -(1/m)*(np.log(p).T *y + np.log(1-p).T * (1-y))\n",
        "  return cross_entropy\n",
        "\n",
        "def gradient_descent(line_params, points, y, alpha):\n",
        "  m = points.shape[0]\n",
        "  for i in range(2000):\n",
        "    p = get_sigmoid(points * line_params)\n",
        "    gradient = (points.T * (p - y))*(alpha/m)\n",
        "    line_params = line_params - gradient\n",
        "    w1 = line_params.item(0)\n",
        "    w2 = line_params.item(1)\n",
        "    b = line_params.item(2)\n",
        "    x1 = np.array([points[:, 0].min(), points[:,0].max()])\n",
        "    x2 = -b/w2 +x1*(-w1/w2)\n",
        "    #live_plot(x1, x2)\n",
        "    #print(calculate_error(line_params, points, y))\n",
        "  draw(x1, x2)\n",
        "\n"
      ],
      "execution_count": 3,
      "outputs": []
    },
    {
      "cell_type": "code",
      "metadata": {
        "colab": {
          "base_uri": "https://localhost:8080/"
        },
        "id": "S54ImyG4nXm4",
        "outputId": "d29a3135-d733-4a4c-b2ef-b999b006048a"
      },
      "source": [
        "n_pts = 10\n",
        "np.random.seed(0)\n",
        "bias = np.ones(n_pts)\n",
        "random_x1_values = np.random.normal(10, 2, n_pts)\n",
        "random_x2_values = np.random.normal(12, 2, n_pts)\n",
        "top_region = np.array([random_x1_values, random_x2_values, bias]).transpose()\n",
        "bottom_region = np.array([np.random.normal(5, 2, n_pts), np.random.normal(6, 2, n_pts), bias]).T\n",
        "all_points = np.vstack((top_region, bottom_region))\n",
        "#print(all_points)\n",
        "w1 = -0.2\n",
        "w2 = -0.35\n",
        "b = 3.5\n",
        "line_parameters = np.matrix([w1, w2, b]).T\n",
        "x1 = np.array([bottom_region[:, 0].min(), top_region[:,0].max()])\n",
        "x2 = -b/w2 +x1*(-w1/w2)\n",
        "#print(x1, x2)\n",
        "#print(all_points.shape)\n",
        "#print(line_parameters.shape)\n",
        "#top_region\n",
        "linear_combination = all_points * line_parameters\n",
        "#print(linear_combination)\n",
        "probabilities = get_sigmoid(linear_combination)\n",
        "#print(probabilities)\n",
        "y = np.array([np.zeros(n_pts), np.ones(n_pts)]).reshape(n_pts*2, 1)\n",
        "y"
      ],
      "execution_count": 4,
      "outputs": [
        {
          "output_type": "execute_result",
          "data": {
            "text/plain": [
              "array([[0.],\n",
              "       [0.],\n",
              "       [0.],\n",
              "       [0.],\n",
              "       [0.],\n",
              "       [0.],\n",
              "       [0.],\n",
              "       [0.],\n",
              "       [0.],\n",
              "       [0.],\n",
              "       [1.],\n",
              "       [1.],\n",
              "       [1.],\n",
              "       [1.],\n",
              "       [1.],\n",
              "       [1.],\n",
              "       [1.],\n",
              "       [1.],\n",
              "       [1.],\n",
              "       [1.]])"
            ]
          },
          "metadata": {
            "tags": []
          },
          "execution_count": 4
        }
      ]
    },
    {
      "cell_type": "code",
      "metadata": {
        "colab": {
          "base_uri": "https://localhost:8080/",
          "height": 265
        },
        "id": "tda_KlECu96W",
        "outputId": "2046eb61-32b5-4dec-e78f-7355d979c7b7"
      },
      "source": [
        "_, ax = plt.subplots(figsize = (4,4))\n",
        "ax.scatter(top_region[:, 0], top_region[:, 1], color = 'r')\n",
        "ax.scatter(bottom_region[:, 0], bottom_region[:, 1], color = 'b')\n",
        "draw(x1,x2)\n",
        "plt.show()"
      ],
      "execution_count": 5,
      "outputs": [
        {
          "output_type": "display_data",
          "data": {
            "image/png": "[encoded data removed]",
            "text/plain": [
              "<Figure size 288x288 with 1 Axes>"
            ]
          },
          "metadata": {
            "tags": [],
            "needs_background": "light"
          }
        }
      ]
    },
    {
      "cell_type": "code",
      "metadata": {
        "colab": {
          "base_uri": "https://localhost:8080/"
        },
        "id": "C8GJDKEGyM7m",
        "outputId": "a02abac1-f390-4cea-ed3c-8fba53f65269"
      },
      "source": [
        "# Cross Entropy\n",
        "print(calculate_error(line_parameters, all_points, y))"
      ],
      "execution_count": 6,
      "outputs": [
        {
          "output_type": "stream",
          "text": [
            "[[0.31787835]]\n"
          ],
          "name": "stdout"
        }
      ]
    },
    {
      "cell_type": "code",
      "metadata": {
        "id": "006n4PjlAEqi"
      },
      "source": [
        "# Line calcuation is computer's job. Hence make it all zeros\n",
        "# Revisiting the above steps\n",
        "\n",
        "n_pts = 100\n",
        "np.random.seed(0)\n",
        "bias = np.ones(n_pts)\n",
        "top_region = np.array([np.random.normal(10, 2, n_pts), np.random.normal(12, 2, n_pts), bias]).transpose()\n",
        "bottom_region = np.array([np.random.normal(5, 2, n_pts), np.random.normal(6, 2, n_pts), bias]).T\n",
        "all_points = np.vstack((top_region, bottom_region))\n",
        "line_parameters = np.matrix([np.zeros(3)]).T\n",
        "y = np.array([np.zeros(n_pts), np.ones(n_pts)]).reshape(n_pts*2, 1)\n",
        "# y"
      ],
      "execution_count": 7,
      "outputs": []
    },
    {
      "cell_type": "code",
      "metadata": {
        "colab": {
          "base_uri": "https://localhost:8080/",
          "height": 265
        },
        "id": "2QP0ReaKCZ3_",
        "outputId": "3842bb2a-9e19-46dd-acee-85adf3a39e71"
      },
      "source": [
        "_, ax = plt.subplots(figsize = (4,4))\n",
        "ax.scatter(top_region[:, 0], top_region[:, 1], color = 'r')\n",
        "ax.scatter(bottom_region[:, 0], bottom_region[:, 1], color = 'b')\n",
        "gradient_descent(line_parameters, all_points, y, 0.06)\n",
        "plt.show()"
      ],
      "execution_count": 8,
      "outputs": [
        {
          "output_type": "display_data",
          "data": {
            "image/png": "[encoded data removed]",
            "text/plain": [
              "<Figure size 288x288 with 1 Axes>"
            ]
          },
          "metadata": {
            "tags": [],
            "needs_background": "light"
          }
        }
      ]
    }
  ]
}